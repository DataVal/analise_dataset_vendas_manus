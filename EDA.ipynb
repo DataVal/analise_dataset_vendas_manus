{
 "cells": [
  {
   "cell_type": "markdown",
   "id": "c19c0d39-ca89-4161-ab1c-3cf2511e162f",
   "metadata": {},
   "source": [
    "<h1 align=\"center\">EDA & ETL DataSmart<h1>"
   ]
  },
  {
   "cell_type": "code",
   "execution_count": 1,
   "id": "0891260c-1622-473d-833d-6b14423fc711",
   "metadata": {},
   "outputs": [],
   "source": [
    "import pandas as pd\n",
    "import seaborn as sns\n",
    "import matplotlib.pyplot as plt"
   ]
  },
  {
   "cell_type": "markdown",
   "id": "b1f76c36-8c8c-4c05-bafc-7b913efd5d19",
   "metadata": {},
   "source": [
    "# Importando o dataset"
   ]
  },
  {
   "cell_type": "code",
   "execution_count": 2,
   "id": "30eb0b5e-d24e-4bf7-bd80-87c0d68a7a1a",
   "metadata": {
    "scrolled": true
   },
   "outputs": [
    {
     "data": {
      "text/html": [
       "<div>\n",
       "<style scoped>\n",
       "    .dataframe tbody tr th:only-of-type {\n",
       "        vertical-align: middle;\n",
       "    }\n",
       "\n",
       "    .dataframe tbody tr th {\n",
       "        vertical-align: top;\n",
       "    }\n",
       "\n",
       "    .dataframe thead th {\n",
       "        text-align: right;\n",
       "    }\n",
       "</style>\n",
       "<table border=\"1\" class=\"dataframe\">\n",
       "  <thead>\n",
       "    <tr style=\"text-align: right;\">\n",
       "      <th></th>\n",
       "      <th>ID_Pedido</th>\n",
       "      <th>Data_Venda</th>\n",
       "      <th>Nome_Produto</th>\n",
       "      <th>Categoria</th>\n",
       "      <th>Quantidade</th>\n",
       "      <th>Preco_Unitario</th>\n",
       "      <th>Valor_Total</th>\n",
       "      <th>Nome_Cliente</th>\n",
       "      <th>Estado</th>\n",
       "      <th>Email</th>\n",
       "      <th>Metodo_Pagamento</th>\n",
       "    </tr>\n",
       "  </thead>\n",
       "  <tbody>\n",
       "    <tr>\n",
       "      <th>0</th>\n",
       "      <td>01a193ef-60a9-4aa6-8d51-50c61589cc0a</td>\n",
       "      <td>2022-08-10</td>\n",
       "      <td>Camiseta Básica</td>\n",
       "      <td>Roupas</td>\n",
       "      <td>1</td>\n",
       "      <td>1202.56</td>\n",
       "      <td>1202.56</td>\n",
       "      <td>Patrícia Ferreira</td>\n",
       "      <td>PA</td>\n",
       "      <td>patrícia.ferreira@teste.br</td>\n",
       "      <td>PIX</td>\n",
       "    </tr>\n",
       "    <tr>\n",
       "      <th>1</th>\n",
       "      <td>4ae8427f-14ed-4bff-9bbf-5e6f53e9085e</td>\n",
       "      <td>2024-09-13</td>\n",
       "      <td>Bicicleta Mountain Bike</td>\n",
       "      <td>Esportes e Lazer</td>\n",
       "      <td>2</td>\n",
       "      <td>2606.71</td>\n",
       "      <td>5213.42</td>\n",
       "      <td>Bruno Santos</td>\n",
       "      <td>AM</td>\n",
       "      <td>bruno.santos@web.org</td>\n",
       "      <td>PIX</td>\n",
       "    </tr>\n",
       "    <tr>\n",
       "      <th>2</th>\n",
       "      <td>9a734f36-017e-4af7-af06-60f8e7f727b9</td>\n",
       "      <td>2022-09-24</td>\n",
       "      <td>Poemas ao Luar</td>\n",
       "      <td>Livros</td>\n",
       "      <td>3</td>\n",
       "      <td>1126.25</td>\n",
       "      <td>3378.75</td>\n",
       "      <td>Ana Almeida</td>\n",
       "      <td>MA</td>\n",
       "      <td>NaN</td>\n",
       "      <td>Boleto Bancário</td>\n",
       "    </tr>\n",
       "    <tr>\n",
       "      <th>3</th>\n",
       "      <td>05a2909d-c14e-4262-9a24-c0b02330a275</td>\n",
       "      <td>2022-07-24</td>\n",
       "      <td>Cozinha para Iniciantes</td>\n",
       "      <td>Livros</td>\n",
       "      <td>4</td>\n",
       "      <td>362.31</td>\n",
       "      <td>1449.24</td>\n",
       "      <td>Patrícia Mendes</td>\n",
       "      <td>SE</td>\n",
       "      <td>patrícia.mendes@email.com</td>\n",
       "      <td>PayPal</td>\n",
       "    </tr>\n",
       "    <tr>\n",
       "      <th>4</th>\n",
       "      <td>d09281ba-b013-4f1c-888a-71987c865733</td>\n",
       "      <td>2024-03-06</td>\n",
       "      <td>Vestido Floral</td>\n",
       "      <td>Roupas</td>\n",
       "      <td>1</td>\n",
       "      <td>359.89</td>\n",
       "      <td>359.89</td>\n",
       "      <td>Carlos Mendes</td>\n",
       "      <td>RS</td>\n",
       "      <td>carlos.mendes@teste.br</td>\n",
       "      <td>PIX</td>\n",
       "    </tr>\n",
       "  </tbody>\n",
       "</table>\n",
       "</div>"
      ],
      "text/plain": [
       "                              ID_Pedido Data_Venda             Nome_Produto  \\\n",
       "0  01a193ef-60a9-4aa6-8d51-50c61589cc0a 2022-08-10          Camiseta Básica   \n",
       "1  4ae8427f-14ed-4bff-9bbf-5e6f53e9085e 2024-09-13  Bicicleta Mountain Bike   \n",
       "2  9a734f36-017e-4af7-af06-60f8e7f727b9 2022-09-24           Poemas ao Luar   \n",
       "3  05a2909d-c14e-4262-9a24-c0b02330a275 2022-07-24  Cozinha para Iniciantes   \n",
       "4  d09281ba-b013-4f1c-888a-71987c865733 2024-03-06           Vestido Floral   \n",
       "\n",
       "          Categoria  Quantidade  Preco_Unitario  Valor_Total  \\\n",
       "0            Roupas           1         1202.56      1202.56   \n",
       "1  Esportes e Lazer           2         2606.71      5213.42   \n",
       "2            Livros           3         1126.25      3378.75   \n",
       "3            Livros           4          362.31      1449.24   \n",
       "4            Roupas           1          359.89       359.89   \n",
       "\n",
       "        Nome_Cliente Estado                       Email Metodo_Pagamento  \n",
       "0  Patrícia Ferreira     PA  patrícia.ferreira@teste.br              PIX  \n",
       "1       Bruno Santos     AM        bruno.santos@web.org              PIX  \n",
       "2        Ana Almeida     MA                         NaN  Boleto Bancário  \n",
       "3    Patrícia Mendes     SE   patrícia.mendes@email.com           PayPal  \n",
       "4      Carlos Mendes     RS      carlos.mendes@teste.br              PIX  "
      ]
     },
     "execution_count": 2,
     "metadata": {},
     "output_type": "execute_result"
    }
   ],
   "source": [
    "df = pd.read_csv(\"vendas_online_com_erros.csv\", decimal=\".\")\n",
    "df[\"Data_Venda\"] = pd.to_datetime(df[\"Data_Venda\"])\n",
    "df.head()"
   ]
  },
  {
   "cell_type": "markdown",
   "id": "bcabe270-0008-41cc-8a07-9e697dfd12c4",
   "metadata": {},
   "source": [
    "# Analisando as informações do dataset"
   ]
  },
  {
   "cell_type": "code",
   "execution_count": 3,
   "id": "1ae609e5-133e-4e47-9eee-4284a8f1b379",
   "metadata": {},
   "outputs": [
    {
     "data": {
      "text/plain": [
       "(10580, 11)"
      ]
     },
     "execution_count": 3,
     "metadata": {},
     "output_type": "execute_result"
    }
   ],
   "source": [
    "# Total de linhas e colunas\n",
    "df.shape"
   ]
  },
  {
   "cell_type": "code",
   "execution_count": 4,
   "id": "f9922722-41b0-4c84-92f8-07cb9291b5fe",
   "metadata": {},
   "outputs": [
    {
     "data": {
      "text/plain": [
       "['ID_Pedido',\n",
       " 'Data_Venda',\n",
       " 'Nome_Produto',\n",
       " 'Categoria',\n",
       " 'Quantidade',\n",
       " 'Preco_Unitario',\n",
       " 'Valor_Total',\n",
       " 'Nome_Cliente',\n",
       " 'Estado',\n",
       " 'Email',\n",
       " 'Metodo_Pagamento']"
      ]
     },
     "execution_count": 4,
     "metadata": {},
     "output_type": "execute_result"
    }
   ],
   "source": [
    "# Nome das colunas\n",
    "df.columns.to_list()"
   ]
  },
  {
   "cell_type": "code",
   "execution_count": 5,
   "id": "a677eb6d-5792-44d9-b233-a2c690a8070e",
   "metadata": {},
   "outputs": [
    {
     "data": {
      "text/plain": [
       "ID_Pedido                   object\n",
       "Data_Venda          datetime64[ns]\n",
       "Nome_Produto                object\n",
       "Categoria                   object\n",
       "Quantidade                   int64\n",
       "Preco_Unitario             float64\n",
       "Valor_Total                float64\n",
       "Nome_Cliente                object\n",
       "Estado                      object\n",
       "Email                       object\n",
       "Metodo_Pagamento            object\n",
       "dtype: object"
      ]
     },
     "execution_count": 5,
     "metadata": {},
     "output_type": "execute_result"
    }
   ],
   "source": [
    "# Tipos das colunas\n",
    "df.dtypes"
   ]
  },
  {
   "cell_type": "code",
   "execution_count": 6,
   "id": "cc172308-ea4c-4d47-9700-6a0c662e8704",
   "metadata": {},
   "outputs": [
    {
     "data": {
      "text/html": [
       "<div>\n",
       "<style scoped>\n",
       "    .dataframe tbody tr th:only-of-type {\n",
       "        vertical-align: middle;\n",
       "    }\n",
       "\n",
       "    .dataframe tbody tr th {\n",
       "        vertical-align: top;\n",
       "    }\n",
       "\n",
       "    .dataframe thead th {\n",
       "        text-align: right;\n",
       "    }\n",
       "</style>\n",
       "<table border=\"1\" class=\"dataframe\">\n",
       "  <thead>\n",
       "    <tr style=\"text-align: right;\">\n",
       "      <th></th>\n",
       "      <th>normal</th>\n",
       "      <th>deep</th>\n",
       "    </tr>\n",
       "  </thead>\n",
       "  <tbody>\n",
       "    <tr>\n",
       "      <th>Index</th>\n",
       "      <td>132</td>\n",
       "      <td>132</td>\n",
       "    </tr>\n",
       "    <tr>\n",
       "      <th>ID_Pedido</th>\n",
       "      <td>84640</td>\n",
       "      <td>899300</td>\n",
       "    </tr>\n",
       "    <tr>\n",
       "      <th>Data_Venda</th>\n",
       "      <td>84640</td>\n",
       "      <td>84640</td>\n",
       "    </tr>\n",
       "    <tr>\n",
       "      <th>Nome_Produto</th>\n",
       "      <td>84640</td>\n",
       "      <td>746327</td>\n",
       "    </tr>\n",
       "    <tr>\n",
       "      <th>Categoria</th>\n",
       "      <td>84640</td>\n",
       "      <td>663858</td>\n",
       "    </tr>\n",
       "    <tr>\n",
       "      <th>Quantidade</th>\n",
       "      <td>84640</td>\n",
       "      <td>84640</td>\n",
       "    </tr>\n",
       "    <tr>\n",
       "      <th>Preco_Unitario</th>\n",
       "      <td>84640</td>\n",
       "      <td>84640</td>\n",
       "    </tr>\n",
       "    <tr>\n",
       "      <th>Valor_Total</th>\n",
       "      <td>84640</td>\n",
       "      <td>84640</td>\n",
       "    </tr>\n",
       "    <tr>\n",
       "      <th>Nome_Cliente</th>\n",
       "      <td>84640</td>\n",
       "      <td>693744</td>\n",
       "    </tr>\n",
       "    <tr>\n",
       "      <th>Estado</th>\n",
       "      <td>84640</td>\n",
       "      <td>533557</td>\n",
       "    </tr>\n",
       "    <tr>\n",
       "      <th>Email</th>\n",
       "      <td>84640</td>\n",
       "      <td>772649</td>\n",
       "    </tr>\n",
       "    <tr>\n",
       "      <th>Metodo_Pagamento</th>\n",
       "      <td>84640</td>\n",
       "      <td>746959</td>\n",
       "    </tr>\n",
       "  </tbody>\n",
       "</table>\n",
       "</div>"
      ],
      "text/plain": [
       "                  normal    deep\n",
       "Index                132     132\n",
       "ID_Pedido          84640  899300\n",
       "Data_Venda         84640   84640\n",
       "Nome_Produto       84640  746327\n",
       "Categoria          84640  663858\n",
       "Quantidade         84640   84640\n",
       "Preco_Unitario     84640   84640\n",
       "Valor_Total        84640   84640\n",
       "Nome_Cliente       84640  693744\n",
       "Estado             84640  533557\n",
       "Email              84640  772649\n",
       "Metodo_Pagamento   84640  746959"
      ]
     },
     "execution_count": 6,
     "metadata": {},
     "output_type": "execute_result"
    }
   ],
   "source": [
    "# Vendo o consumo de memória normal e com deep, que verifica o tamanho real usado\n",
    "musg_normal = df.memory_usage()\n",
    "musg_deep = df.memory_usage(deep=True)\n",
    "mem_usage = pd.concat([musg_normal, musg_deep], axis=1)\n",
    "mem_usage.columns = ['normal', 'deep']\n",
    "mem_usage"
   ]
  },
  {
   "cell_type": "code",
   "execution_count": 7,
   "id": "fc005800-5e75-4815-b068-438de60404b9",
   "metadata": {},
   "outputs": [
    {
     "data": {
      "text/plain": [
       "ID_Pedido             0\n",
       "Data_Venda            0\n",
       "Nome_Produto          0\n",
       "Categoria             0\n",
       "Quantidade            0\n",
       "Preco_Unitario      105\n",
       "Valor_Total           0\n",
       "Nome_Cliente          0\n",
       "Estado              317\n",
       "Email               529\n",
       "Metodo_Pagamento    210\n",
       "dtype: int64"
      ]
     },
     "execution_count": 7,
     "metadata": {},
     "output_type": "execute_result"
    }
   ],
   "source": [
    "# Quantidade de nulos por coluna\n",
    "df.isnull().sum()"
   ]
  },
  {
   "cell_type": "markdown",
   "id": "448a8c45-1206-4c76-bbc1-e9f67c9442d2",
   "metadata": {},
   "source": [
    "## Entendendo a distribuição dos dados"
   ]
  },
  {
   "cell_type": "code",
   "execution_count": 8,
   "id": "109ed423-bf98-4de1-9d0a-20e3fc7943a6",
   "metadata": {},
   "outputs": [
    {
     "data": {
      "text/html": [
       "<div>\n",
       "<style scoped>\n",
       "    .dataframe tbody tr th:only-of-type {\n",
       "        vertical-align: middle;\n",
       "    }\n",
       "\n",
       "    .dataframe tbody tr th {\n",
       "        vertical-align: top;\n",
       "    }\n",
       "\n",
       "    .dataframe thead th {\n",
       "        text-align: right;\n",
       "    }\n",
       "</style>\n",
       "<table border=\"1\" class=\"dataframe\">\n",
       "  <thead>\n",
       "    <tr style=\"text-align: right;\">\n",
       "      <th></th>\n",
       "      <th>Data_Venda</th>\n",
       "      <th>Quantidade</th>\n",
       "      <th>Preco_Unitario</th>\n",
       "      <th>Valor_Total</th>\n",
       "    </tr>\n",
       "  </thead>\n",
       "  <tbody>\n",
       "    <tr>\n",
       "      <th>count</th>\n",
       "      <td>10580</td>\n",
       "      <td>10580.000000</td>\n",
       "      <td>10475.000000</td>\n",
       "      <td>10580.000000</td>\n",
       "    </tr>\n",
       "    <tr>\n",
       "      <th>mean</th>\n",
       "      <td>2023-06-29 13:34:43.780718336</td>\n",
       "      <td>2.997259</td>\n",
       "      <td>2491.867388</td>\n",
       "      <td>7463.579054</td>\n",
       "    </tr>\n",
       "    <tr>\n",
       "      <th>min</th>\n",
       "      <td>2022-01-01 00:00:00</td>\n",
       "      <td>1.000000</td>\n",
       "      <td>10.610000</td>\n",
       "      <td>11.030000</td>\n",
       "    </tr>\n",
       "    <tr>\n",
       "      <th>25%</th>\n",
       "      <td>2022-10-01 18:00:00</td>\n",
       "      <td>2.000000</td>\n",
       "      <td>1250.020000</td>\n",
       "      <td>2712.025000</td>\n",
       "    </tr>\n",
       "    <tr>\n",
       "      <th>50%</th>\n",
       "      <td>2023-06-26 00:00:00</td>\n",
       "      <td>3.000000</td>\n",
       "      <td>2473.590000</td>\n",
       "      <td>5734.000000</td>\n",
       "    </tr>\n",
       "    <tr>\n",
       "      <th>75%</th>\n",
       "      <td>2024-03-27 00:00:00</td>\n",
       "      <td>4.000000</td>\n",
       "      <td>3732.500000</td>\n",
       "      <td>11019.692500</td>\n",
       "    </tr>\n",
       "    <tr>\n",
       "      <th>max</th>\n",
       "      <td>2024-12-31 00:00:00</td>\n",
       "      <td>5.000000</td>\n",
       "      <td>5000.220000</td>\n",
       "      <td>24961.600000</td>\n",
       "    </tr>\n",
       "    <tr>\n",
       "      <th>std</th>\n",
       "      <td>NaN</td>\n",
       "      <td>1.428542</td>\n",
       "      <td>1438.772427</td>\n",
       "      <td>5953.717365</td>\n",
       "    </tr>\n",
       "  </tbody>\n",
       "</table>\n",
       "</div>"
      ],
      "text/plain": [
       "                          Data_Venda    Quantidade  Preco_Unitario  \\\n",
       "count                          10580  10580.000000    10475.000000   \n",
       "mean   2023-06-29 13:34:43.780718336      2.997259     2491.867388   \n",
       "min              2022-01-01 00:00:00      1.000000       10.610000   \n",
       "25%              2022-10-01 18:00:00      2.000000     1250.020000   \n",
       "50%              2023-06-26 00:00:00      3.000000     2473.590000   \n",
       "75%              2024-03-27 00:00:00      4.000000     3732.500000   \n",
       "max              2024-12-31 00:00:00      5.000000     5000.220000   \n",
       "std                              NaN      1.428542     1438.772427   \n",
       "\n",
       "        Valor_Total  \n",
       "count  10580.000000  \n",
       "mean    7463.579054  \n",
       "min       11.030000  \n",
       "25%     2712.025000  \n",
       "50%     5734.000000  \n",
       "75%    11019.692500  \n",
       "max    24961.600000  \n",
       "std     5953.717365  "
      ]
     },
     "execution_count": 8,
     "metadata": {},
     "output_type": "execute_result"
    }
   ],
   "source": [
    "# Gerando estatística descritiva básica das colunas numéricas\n",
    "df.describe()"
   ]
  },
  {
   "cell_type": "code",
   "execution_count": 9,
   "id": "cd5891d5-81be-4278-873b-2e821f5ecfab",
   "metadata": {},
   "outputs": [
    {
     "data": {
      "text/html": [
       "<div>\n",
       "<style scoped>\n",
       "    .dataframe tbody tr th:only-of-type {\n",
       "        vertical-align: middle;\n",
       "    }\n",
       "\n",
       "    .dataframe tbody tr th {\n",
       "        vertical-align: top;\n",
       "    }\n",
       "\n",
       "    .dataframe thead th {\n",
       "        text-align: right;\n",
       "    }\n",
       "</style>\n",
       "<table border=\"1\" class=\"dataframe\">\n",
       "  <thead>\n",
       "    <tr style=\"text-align: right;\">\n",
       "      <th></th>\n",
       "      <th>Quantidade</th>\n",
       "      <th>Preco_Unitario</th>\n",
       "      <th>Valor_Total</th>\n",
       "    </tr>\n",
       "  </thead>\n",
       "  <tbody>\n",
       "    <tr>\n",
       "      <th>mean</th>\n",
       "      <td>2.997259</td>\n",
       "      <td>2491.867388</td>\n",
       "      <td>7463.579054</td>\n",
       "    </tr>\n",
       "    <tr>\n",
       "      <th>std</th>\n",
       "      <td>1.428542</td>\n",
       "      <td>1438.772427</td>\n",
       "      <td>5953.717365</td>\n",
       "    </tr>\n",
       "    <tr>\n",
       "      <th>min</th>\n",
       "      <td>1.000000</td>\n",
       "      <td>10.610000</td>\n",
       "      <td>11.030000</td>\n",
       "    </tr>\n",
       "    <tr>\n",
       "      <th>max</th>\n",
       "      <td>5.000000</td>\n",
       "      <td>5000.220000</td>\n",
       "      <td>24961.600000</td>\n",
       "    </tr>\n",
       "    <tr>\n",
       "      <th>median</th>\n",
       "      <td>3.000000</td>\n",
       "      <td>2473.590000</td>\n",
       "      <td>5734.000000</td>\n",
       "    </tr>\n",
       "    <tr>\n",
       "      <th>skew</th>\n",
       "      <td>0.004622</td>\n",
       "      <td>0.017997</td>\n",
       "      <td>0.907450</td>\n",
       "    </tr>\n",
       "    <tr>\n",
       "      <th>kurt</th>\n",
       "      <td>-1.316050</td>\n",
       "      <td>-1.189382</td>\n",
       "      <td>-0.002857</td>\n",
       "    </tr>\n",
       "  </tbody>\n",
       "</table>\n",
       "</div>"
      ],
      "text/plain": [
       "        Quantidade  Preco_Unitario   Valor_Total\n",
       "mean      2.997259     2491.867388   7463.579054\n",
       "std       1.428542     1438.772427   5953.717365\n",
       "min       1.000000       10.610000     11.030000\n",
       "max       5.000000     5000.220000  24961.600000\n",
       "median    3.000000     2473.590000   5734.000000\n",
       "skew      0.004622        0.017997      0.907450\n",
       "kurt     -1.316050       -1.189382     -0.002857"
      ]
     },
     "execution_count": 9,
     "metadata": {},
     "output_type": "execute_result"
    }
   ],
   "source": [
    "# Estatísticas descritivas mais complexas\n",
    "df.select_dtypes(include='number').agg(['mean', 'std', 'min', 'max', 'median', 'skew', 'kurt'])"
   ]
  },
  {
   "cell_type": "code",
   "execution_count": 10,
   "id": "a2398756-ed30-4536-ac18-25f0414fe381",
   "metadata": {},
   "outputs": [
    {
     "data": {
      "image/png": "[encoded data removed]",
      "text/plain": [
       "<Figure size 1200x800 with 4 Axes>"
      ]
     },
     "metadata": {},
     "output_type": "display_data"
    }
   ],
   "source": [
    "# Distribuição das variáveis numéricas\n",
    "df_num = df.select_dtypes(include=\"number\")\n",
    "df_num.hist(bins=30, figsize=(12, 8), edgecolor='black')\n",
    "plt.tight_layout()\n",
    "plt.show()"
   ]
  },
  {
   "cell_type": "code",
   "execution_count": 11,
   "id": "a468aa7c-6af9-47da-8d8d-7018a6df5283",
   "metadata": {},
   "outputs": [
    {
     "data": {
      "image/png": "[encoded data removed]",
      "text/plain": [
       "<Figure size 750x750 with 12 Axes>"
      ]
     },
     "metadata": {},
     "output_type": "display_data"
    }
   ],
   "source": [
    "# Gerando gráficos para entender a relação entre todas variáveis numéricas\n",
    "# O parametro diag_kind=kde faz com que na linha diagonal seja mostrada a distribuição das variaveis\n",
    "sns.pairplot(df_num, diag_kind='kde')\n",
    "plt.show()\n"
   ]
  },
  {
   "cell_type": "markdown",
   "id": "8c0506c4-b9e4-44eb-b630-cbeb828a947a",
   "metadata": {
    "jp-MarkdownHeadingCollapsed": true
   },
   "source": [
    "## Entendendo colunas categóricas"
   ]
  },
  {
   "cell_type": "code",
   "execution_count": 12,
   "id": "974c5d8a-f102-4584-9246-1662872263c9",
   "metadata": {},
   "outputs": [
    {
     "data": {
      "text/html": [
       "<div>\n",
       "<style scoped>\n",
       "    .dataframe tbody tr th:only-of-type {\n",
       "        vertical-align: middle;\n",
       "    }\n",
       "\n",
       "    .dataframe tbody tr th {\n",
       "        vertical-align: top;\n",
       "    }\n",
       "\n",
       "    .dataframe thead th {\n",
       "        text-align: right;\n",
       "    }\n",
       "</style>\n",
       "<table border=\"1\" class=\"dataframe\">\n",
       "  <thead>\n",
       "    <tr style=\"text-align: right;\">\n",
       "      <th></th>\n",
       "      <th>ID_Pedido</th>\n",
       "      <th>Data_Venda</th>\n",
       "      <th>Nome_Produto</th>\n",
       "      <th>Categoria</th>\n",
       "      <th>Nome_Cliente</th>\n",
       "      <th>Estado</th>\n",
       "      <th>Email</th>\n",
       "      <th>Metodo_Pagamento</th>\n",
       "    </tr>\n",
       "  </thead>\n",
       "  <tbody>\n",
       "    <tr>\n",
       "      <th>0</th>\n",
       "      <td>01a193ef-60a9-4aa6-8d51-50c61589cc0a</td>\n",
       "      <td>2022-08-10</td>\n",
       "      <td>Camiseta Básica</td>\n",
       "      <td>Roupas</td>\n",
       "      <td>Patrícia Ferreira</td>\n",
       "      <td>PA</td>\n",
       "      <td>patrícia.ferreira@teste.br</td>\n",
       "      <td>PIX</td>\n",
       "    </tr>\n",
       "    <tr>\n",
       "      <th>1</th>\n",
       "      <td>4ae8427f-14ed-4bff-9bbf-5e6f53e9085e</td>\n",
       "      <td>2024-09-13</td>\n",
       "      <td>Bicicleta Mountain Bike</td>\n",
       "      <td>Esportes e Lazer</td>\n",
       "      <td>Bruno Santos</td>\n",
       "      <td>AM</td>\n",
       "      <td>bruno.santos@web.org</td>\n",
       "      <td>PIX</td>\n",
       "    </tr>\n",
       "    <tr>\n",
       "      <th>2</th>\n",
       "      <td>9a734f36-017e-4af7-af06-60f8e7f727b9</td>\n",
       "      <td>2022-09-24</td>\n",
       "      <td>Poemas ao Luar</td>\n",
       "      <td>Livros</td>\n",
       "      <td>Ana Almeida</td>\n",
       "      <td>MA</td>\n",
       "      <td>NaN</td>\n",
       "      <td>Boleto Bancário</td>\n",
       "    </tr>\n",
       "    <tr>\n",
       "      <th>3</th>\n",
       "      <td>05a2909d-c14e-4262-9a24-c0b02330a275</td>\n",
       "      <td>2022-07-24</td>\n",
       "      <td>Cozinha para Iniciantes</td>\n",
       "      <td>Livros</td>\n",
       "      <td>Patrícia Mendes</td>\n",
       "      <td>SE</td>\n",
       "      <td>patrícia.mendes@email.com</td>\n",
       "      <td>PayPal</td>\n",
       "    </tr>\n",
       "    <tr>\n",
       "      <th>4</th>\n",
       "      <td>d09281ba-b013-4f1c-888a-71987c865733</td>\n",
       "      <td>2024-03-06</td>\n",
       "      <td>Vestido Floral</td>\n",
       "      <td>Roupas</td>\n",
       "      <td>Carlos Mendes</td>\n",
       "      <td>RS</td>\n",
       "      <td>carlos.mendes@teste.br</td>\n",
       "      <td>PIX</td>\n",
       "    </tr>\n",
       "  </tbody>\n",
       "</table>\n",
       "</div>"
      ],
      "text/plain": [
       "                              ID_Pedido Data_Venda             Nome_Produto  \\\n",
       "0  01a193ef-60a9-4aa6-8d51-50c61589cc0a 2022-08-10          Camiseta Básica   \n",
       "1  4ae8427f-14ed-4bff-9bbf-5e6f53e9085e 2024-09-13  Bicicleta Mountain Bike   \n",
       "2  9a734f36-017e-4af7-af06-60f8e7f727b9 2022-09-24           Poemas ao Luar   \n",
       "3  05a2909d-c14e-4262-9a24-c0b02330a275 2022-07-24  Cozinha para Iniciantes   \n",
       "4  d09281ba-b013-4f1c-888a-71987c865733 2024-03-06           Vestido Floral   \n",
       "\n",
       "          Categoria       Nome_Cliente Estado                       Email  \\\n",
       "0            Roupas  Patrícia Ferreira     PA  patrícia.ferreira@teste.br   \n",
       "1  Esportes e Lazer       Bruno Santos     AM        bruno.santos@web.org   \n",
       "2            Livros        Ana Almeida     MA                         NaN   \n",
       "3            Livros    Patrícia Mendes     SE   patrícia.mendes@email.com   \n",
       "4            Roupas      Carlos Mendes     RS      carlos.mendes@teste.br   \n",
       "\n",
       "  Metodo_Pagamento  \n",
       "0              PIX  \n",
       "1              PIX  \n",
       "2  Boleto Bancário  \n",
       "3           PayPal  \n",
       "4              PIX  "
      ]
     },
     "execution_count": 12,
     "metadata": {},
     "output_type": "execute_result"
    }
   ],
   "source": [
    "# Selecionando somente colunas não-numéricas\n",
    "df_cat = df.select_dtypes(exclude=\"number\")\n",
    "# ou df_cat = df.select_dtypes(include=\"object\")\n",
    "df_cat.head()"
   ]
  },
  {
   "cell_type": "code",
   "execution_count": 13,
   "id": "401aa154-6331-47b0-a0f1-5a499f4e5aeb",
   "metadata": {},
   "outputs": [
    {
     "data": {
      "text/plain": [
       "ID_Pedido                   object\n",
       "Data_Venda          datetime64[ns]\n",
       "Nome_Produto                object\n",
       "Categoria                   object\n",
       "Nome_Cliente                object\n",
       "Estado                      object\n",
       "Email                       object\n",
       "Metodo_Pagamento            object\n",
       "dtype: object"
      ]
     },
     "execution_count": 13,
     "metadata": {},
     "output_type": "execute_result"
    }
   ],
   "source": [
    "# Conferindo se todas colunas que pegamos estão certas em seus tipos\n",
    "df_cat.dtypes"
   ]
  },
  {
   "cell_type": "code",
   "execution_count": 14,
   "id": "93649b6e-4a27-4128-b2cb-781780aed7c6",
   "metadata": {
    "scrolled": true
   },
   "outputs": [
    {
     "name": "stdout",
     "output_type": "stream",
     "text": [
      "\n",
      "--- ID_Pedido ---\n",
      "                                      Frequência  Porcentagem (%)\n",
      "ID_Pedido                                                        \n",
      "2f053d78-e420-4fd7-b7e0-0e31f3e4e290           2             0.02\n",
      "0bf1c4c5-158b-444a-9fb9-8c25bf4d6235           2             0.02\n",
      "76b87283-fdbf-4d2b-af47-89c17d48560d           2             0.02\n",
      "73849f6d-e437-4386-a62d-46fb224c01cb           2             0.02\n",
      "f3076cdf-0c6d-4bea-84bb-a13b76032c48           2             0.02\n",
      "...                                          ...              ...\n",
      "14572e1d-e280-414a-8ddb-ddba214e61aa           1             0.01\n",
      "f4c3096b-eb21-441e-ab4d-e1c7c9072329           1             0.01\n",
      "e6aac560-25fb-4a46-a882-030d0ba8c6ab           1             0.01\n",
      "f220de3f-d4ba-4982-bc1d-a6b3ac4d6650           1             0.01\n",
      "a0b86f77-b740-4fef-9177-454202603309           1             0.01\n",
      "\n",
      "[10500 rows x 2 columns]\n",
      "\n",
      "--- Data_Venda ---\n",
      "            Frequência  Porcentagem (%)\n",
      "Data_Venda                             \n",
      "2022-09-05          20             0.19\n",
      "2023-07-21          20             0.19\n",
      "2022-04-20          19             0.18\n",
      "2024-07-13          19             0.18\n",
      "2022-07-03          19             0.18\n",
      "...                ...              ...\n",
      "2024-02-24           2             0.02\n",
      "2024-07-04           2             0.02\n",
      "2022-05-20           2             0.02\n",
      "2024-02-25           1             0.01\n",
      "2024-12-31           1             0.01\n",
      "\n",
      "[1096 rows x 2 columns]\n",
      "\n",
      "--- Nome_Produto ---\n",
      "                               Frequência  Porcentagem (%)\n",
      "Nome_Produto                                              \n",
      "História da Arte                      452             4.27\n",
      "Aventuras em Marte                    450             4.25\n",
      "Tênis de Corrida                      441             4.17\n",
      "Bola de Futebol Oficial               441             4.17\n",
      "Moletom com Capuz                     441             4.17\n",
      "Calça Jeans Slim                      440             4.16\n",
      "Liquidificador Turbo                  437             4.13\n",
      "Barraca de Camping                    435             4.11\n",
      "Fone de Ouvido Sem Fio                433             4.09\n",
      "O Segredo do Vale                     432             4.08\n",
      "Smartwatch Fit                        429             4.05\n",
      "Cozinha para Iniciantes               427             4.04\n",
      "Laptop Pro                            424             4.01\n",
      "Poemas ao Luar                        422             3.99\n",
      "Kit de Pesca Completo                 417             3.94\n",
      "Jogo de Panelas Antiaderente          416             3.93\n",
      "Robô Aspirador Inteligente            415             3.92\n",
      "Smartphone XYZ                        412             3.89\n",
      "Camiseta Básica                       412             3.89\n",
      "Cafeteira Express                     406             3.84\n",
      "Bicicleta Mountain Bike               405             3.83\n",
      "Vestido Floral                        404             3.82\n",
      "Kit de Ferramentas Essenciais         400             3.78\n",
      "Tablet Max                            396             3.74\n",
      "Jaqueta de Couro                      393             3.71\n",
      "\n",
      "--- Categoria ---\n",
      "                  Frequência  Porcentagem (%)\n",
      "Categoria                                    \n",
      "Livros                  2177            20.58\n",
      "Esportes e Lazer        2139            20.22\n",
      "Eletrônicos             2094            19.79\n",
      "Roupas                  2090            19.75\n",
      "Casa e Cozinha          2074            19.60\n",
      "livros                     2             0.02\n",
      "Livros                     2             0.02\n",
      "LIVROS                     2             0.02\n",
      "\n",
      "--- Nome_Cliente ---\n",
      "                    Frequência  Porcentagem (%)\n",
      "Nome_Cliente                                   \n",
      "Valentina Pereira           43             0.41\n",
      "Eduardo Santos              43             0.41\n",
      "Kaique Castro               42             0.40\n",
      "Helena Dias                 41             0.39\n",
      "Bruno Ferreira              40             0.38\n",
      "...                        ...              ...\n",
      "Fernanda Lima               17             0.16\n",
      "Patrícia Rodrigues          16             0.15\n",
      "Helena Barbosa              16             0.15\n",
      "Otávio Ribeiro              16             0.15\n",
      "Natália Silva               13             0.12\n",
      "\n",
      "[400 rows x 2 columns]\n",
      "\n",
      "--- Estado ---\n",
      "        Frequência  Porcentagem (%)\n",
      "Estado                             \n",
      "PI             413             3.90\n",
      "AC             412             3.89\n",
      "AP             409             3.87\n",
      "MA             405             3.83\n",
      "RS             399             3.77\n",
      "RR             396             3.74\n",
      "DF             395             3.73\n",
      "BA             390             3.69\n",
      "AL             390             3.69\n",
      "PA             388             3.67\n",
      "PB             386             3.65\n",
      "GO             385             3.64\n",
      "RN             385             3.64\n",
      "SE             383             3.62\n",
      "SP             382             3.61\n",
      "PR             379             3.58\n",
      "TO             377             3.56\n",
      "CE             374             3.53\n",
      "MT             372             3.52\n",
      "ES             367             3.47\n",
      "SC             366             3.46\n",
      "PE             365             3.45\n",
      "RO             362             3.42\n",
      "AM             356             3.36\n",
      "RJ             348             3.29\n",
      "MS             348             3.29\n",
      "MG             331             3.13\n",
      "NaN            317             3.00\n",
      "\n",
      "--- Email ---\n",
      "                             Frequência  Porcentagem (%)\n",
      "Email                                                   \n",
      "NaN                                 529             5.00\n",
      "julia.oliveira@web.org               13             0.12\n",
      "eduardo.rocha@web.org                13             0.12\n",
      "otávio.silva@web.org                 13             0.12\n",
      "kaique.castro@example.com            13             0.12\n",
      "...                                 ...              ...\n",
      "sofia.martins@web.org                 1             0.01\n",
      "kaique.rocha@mail.net                 1             0.01\n",
      "kaique.santos@email.com               1             0.01\n",
      "ana.almeida@web.org                   1             0.01\n",
      "carlos.oliveira@example.com           1             0.01\n",
      "\n",
      "[1990 rows x 2 columns]\n",
      "\n",
      "--- Metodo_Pagamento ---\n",
      "                        Frequência  Porcentagem (%)\n",
      "Metodo_Pagamento                                   \n",
      "Boleto Bancário               2163            20.44\n",
      "Transferência Bancária        2089            19.74\n",
      "PIX                           2056            19.43\n",
      "Cartão de Crédito             2042            19.30\n",
      "PayPal                        2020            19.09\n",
      "NaN                            210             1.98\n"
     ]
    }
   ],
   "source": [
    "for col in df_cat.columns:\n",
    "    print(f'\\n--- {col} ---')\n",
    "    counts = df_cat[col].value_counts(dropna=False)\n",
    "    percent = df_cat[col].value_counts(dropna=False,normalize=True) * 100\n",
    "    freq_table = pd.DataFrame({'Frequência': counts, 'Porcentagem (%)': percent.round(2)})\n",
    "    print(freq_table)\n",
    "\n"
   ]
  },
  {
   "cell_type": "markdown",
   "id": "61a388bc-e1c5-4dd9-b11e-e1ad766e9c2e",
   "metadata": {},
   "source": [
    "Vamos registrar o que vimos até aqui nas categóricas:\n",
    "- IDs de Pedidos duplicados\n",
    "- Categorias duplicadas com diferentes ortografias\n",
    "- Estados NaN\n",
    "- Emails NaN\n",
    "- Pagamentos NaN"
   ]
  },
  {
   "cell_type": "markdown",
   "id": "8879669e-ab70-4fbe-ba30-4a66b94a1742",
   "metadata": {},
   "source": [
    "# Tratamento dos valores nulos e outliers"
   ]
  },
  {
   "cell_type": "markdown",
   "id": "4a86313b-1aa7-41dc-a3e6-75cb24fc857d",
   "metadata": {},
   "source": [
    "Já sabemos que as colunas que possuem valores nulos são\n",
    "1. Preço Unitario\n",
    "2. Estado\n",
    "3. Email\n",
    "4. Método de Pagamento\n",
    "\n",
    "- A coluna categoria está com valores duplicados\n",
    "- Valor_Total não corresponde a preço unitário x quantidade"
   ]
  },
  {
   "cell_type": "code",
   "execution_count": 15,
   "id": "4d8d9c4f-ab58-47e6-9f04-45ecad43fc0c",
   "metadata": {},
   "outputs": [
    {
     "data": {
      "text/plain": [
       "Index(['ID_Pedido', 'Data_Venda', 'Nome_Produto', 'Categoria', 'Quantidade',\n",
       "       'Preco_Unitario', 'Valor_Total', 'Nome_Cliente', 'Estado', 'Email',\n",
       "       'Metodo_Pagamento'],\n",
       "      dtype='object')"
      ]
     },
     "execution_count": 15,
     "metadata": {},
     "output_type": "execute_result"
    }
   ],
   "source": [
    "df.columns"
   ]
  },
  {
   "cell_type": "code",
   "execution_count": 16,
   "id": "bff7d14e-8c97-4857-81bb-0639d1a5a4ce",
   "metadata": {},
   "outputs": [
    {
     "data": {
      "text/html": [
       "<div>\n",
       "<style scoped>\n",
       "    .dataframe tbody tr th:only-of-type {\n",
       "        vertical-align: middle;\n",
       "    }\n",
       "\n",
       "    .dataframe tbody tr th {\n",
       "        vertical-align: top;\n",
       "    }\n",
       "\n",
       "    .dataframe thead th {\n",
       "        text-align: right;\n",
       "    }\n",
       "</style>\n",
       "<table border=\"1\" class=\"dataframe\">\n",
       "  <thead>\n",
       "    <tr style=\"text-align: right;\">\n",
       "      <th></th>\n",
       "      <th>ID_Pedido</th>\n",
       "      <th>Data_Venda</th>\n",
       "      <th>Nome_Produto</th>\n",
       "      <th>Categoria</th>\n",
       "      <th>Quantidade</th>\n",
       "      <th>Preco_Unitario</th>\n",
       "      <th>Valor_Total</th>\n",
       "      <th>Nome_Cliente</th>\n",
       "      <th>Estado</th>\n",
       "      <th>Email</th>\n",
       "      <th>Metodo_Pagamento</th>\n",
       "    </tr>\n",
       "  </thead>\n",
       "  <tbody>\n",
       "  </tbody>\n",
       "</table>\n",
       "</div>"
      ],
      "text/plain": [
       "Empty DataFrame\n",
       "Columns: [ID_Pedido, Data_Venda, Nome_Produto, Categoria, Quantidade, Preco_Unitario, Valor_Total, Nome_Cliente, Estado, Email, Metodo_Pagamento]\n",
       "Index: []"
      ]
     },
     "execution_count": 16,
     "metadata": {},
     "output_type": "execute_result"
    }
   ],
   "source": [
    "# Analisando pedidos duplicados\n",
    "df[df.duplicated([\"ID_Pedido\"], keep=False)].sort_values(by=\"ID_Pedido\")\n",
    "\n",
    "# Vimos que as duplicatas são de fato iguais então podemos dropar\n",
    "df.drop_duplicates(subset=\"ID_Pedido\", inplace=True)\n",
    "\n",
    "# Verificando se foram dropadas\n",
    "df[df.duplicated([\"ID_Pedido\"], keep=False)].sort_values(by=\"ID_Pedido\")"
   ]
  },
  {
   "cell_type": "code",
   "execution_count": 17,
   "id": "da40f821-cc6d-485c-aa6c-2c6dfc94aeca",
   "metadata": {},
   "outputs": [
    {
     "data": {
      "text/plain": [
       "0"
      ]
     },
     "execution_count": 17,
     "metadata": {},
     "output_type": "execute_result"
    }
   ],
   "source": [
    "# Preenchendo os valores ausentes de preço unitario com o valor total dividido pela quantidade\n",
    "df[\"Preco_Unitario\"] = df[\"Preco_Unitario\"].fillna(df[\"Valor_Total\"] / df[\"Quantidade\"])\n",
    "df[\"Valor_Total\"] = (df[\"Preco_Unitario\"] * df[\"Quantidade\"]).round(2)\n",
    "df[\"Preco_Unitario\"].isnull().sum()"
   ]
  },
  {
   "cell_type": "code",
   "execution_count": 18,
   "id": "e84cd09a-f5e0-4941-9a94-ce533e7bf72b",
   "metadata": {},
   "outputs": [
    {
     "data": {
      "text/plain": [
       "0"
      ]
     },
     "execution_count": 18,
     "metadata": {},
     "output_type": "execute_result"
    }
   ],
   "source": [
    "# Resolvendo os Na's de Estado\n",
    "df[\"Estado\"] = df[\"Estado\"].fillna(\"Desconhecido\")\n",
    "df[\"Estado\"].isnull().sum()"
   ]
  },
  {
   "cell_type": "code",
   "execution_count": 19,
   "id": "7baf7797-a198-4763-9d7e-a00eab44f614",
   "metadata": {},
   "outputs": [
    {
     "data": {
      "text/plain": [
       "0"
      ]
     },
     "execution_count": 19,
     "metadata": {},
     "output_type": "execute_result"
    }
   ],
   "source": [
    "# Resolvendo Na's de Email\n",
    "df[\"Email\"] = df[\"Email\"].fillna(\"Desconhecido\")\n",
    "df[\"Email\"].isnull().sum()"
   ]
  },
  {
   "cell_type": "code",
   "execution_count": 20,
   "id": "eaebe35b-f271-4b5b-b47c-b6d117c794f6",
   "metadata": {},
   "outputs": [
    {
     "data": {
      "text/plain": [
       "0"
      ]
     },
     "execution_count": 20,
     "metadata": {},
     "output_type": "execute_result"
    }
   ],
   "source": [
    "# Resolvendo Na's de Método de Pagamento\n",
    "df[\"Metodo_Pagamento\"] = df[\"Metodo_Pagamento\"].fillna(\"Desconhecido\")\n",
    "df[\"Metodo_Pagamento\"].isnull().sum()"
   ]
  },
  {
   "cell_type": "code",
   "execution_count": 21,
   "id": "6e3c2147-53d2-474a-b78b-60f0f2262829",
   "metadata": {},
   "outputs": [
    {
     "data": {
      "text/plain": [
       "ID_Pedido           0\n",
       "Data_Venda          0\n",
       "Nome_Produto        0\n",
       "Categoria           0\n",
       "Quantidade          0\n",
       "Preco_Unitario      0\n",
       "Valor_Total         0\n",
       "Nome_Cliente        0\n",
       "Estado              0\n",
       "Email               0\n",
       "Metodo_Pagamento    0\n",
       "dtype: int64"
      ]
     },
     "execution_count": 21,
     "metadata": {},
     "output_type": "execute_result"
    }
   ],
   "source": [
    "df.isnull().sum()"
   ]
  },
  {
   "cell_type": "code",
   "execution_count": 22,
   "id": "024206bf-e5fe-4f9b-a7fd-93d05df2df17",
   "metadata": {},
   "outputs": [],
   "source": [
    "# Resolvendo categorias com vários nomes iguais\n",
    "df['Categoria'] = df['Categoria'].apply(lambda x: x.strip().capitalize())"
   ]
  },
  {
   "cell_type": "code",
   "execution_count": 23,
   "id": "82fe95ae-de33-4b0d-b9e4-96a195cc4313",
   "metadata": {},
   "outputs": [
    {
     "data": {
      "text/plain": [
       "Categoria\n",
       "Livros              2166\n",
       "Esportes e lazer    2123\n",
       "Eletrônicos         2079\n",
       "Roupas              2076\n",
       "Casa e cozinha      2056\n",
       "Name: count, dtype: int64"
      ]
     },
     "execution_count": 23,
     "metadata": {},
     "output_type": "execute_result"
    }
   ],
   "source": [
    "df['Categoria'].value_counts()"
   ]
  },
  {
   "cell_type": "markdown",
   "id": "7bfb1b63-5439-47c9-ba23-b94f969f9a82",
   "metadata": {},
   "source": [
    "### Tratando os outliers"
   ]
  },
  {
   "cell_type": "code",
   "execution_count": 24,
   "id": "cf063ef8-feae-492f-9c1b-11e1a2dd16df",
   "metadata": {},
   "outputs": [
    {
     "data": {
      "image/png": "[encoded data removed]",
      "text/plain": [
       "<Figure size 800x600 with 1 Axes>"
      ]
     },
     "metadata": {},
     "output_type": "display_data"
    }
   ],
   "source": [
    "df.plot.box(figsize=(8, 6))\n",
    "plt.title(\"Boxplots das Variáveis Numéricas\")\n",
    "plt.ylabel(\"Valores\")\n",
    "plt.xticks(rotation=45)\n",
    "plt.show()"
   ]
  },
  {
   "cell_type": "code",
   "execution_count": 25,
   "id": "ff70132c-15bf-4c0b-831d-8b90721dadf4",
   "metadata": {},
   "outputs": [],
   "source": [
    "# Cálculo do IQR\n",
    "Q1 = df['Valor_Total'].quantile(0.25)\n",
    "Q3 = df['Valor_Total'].quantile(0.75)\n",
    "IQR = Q3 - Q1\n",
    "\n",
    "# Definindo limites\n",
    "limite_inferior = Q1 - 1.5 * IQR\n",
    "limite_superior = Q3 + 1.5 * IQR\n",
    "\n",
    "# Filtrando os outliers\n",
    "outliers = df[(df['Valor_Total'] < limite_inferior) | (df['Valor_Total'] > limite_superior)]"
   ]
  },
  {
   "cell_type": "markdown",
   "id": "4f67887b-a853-4339-a570-a4c9d04802b4",
   "metadata": {},
   "source": [
    "Nesse caso em específico nossos outliers são simplesmente vendas que acabam pegando muitos produtos de preço unitário elevado, não apresentam nenhum erro em questão, logo não serão removidos."
   ]
  },
  {
   "cell_type": "markdown",
   "id": "decfd20e-ff84-4869-b1af-09c0bca4b862",
   "metadata": {},
   "source": [
    "# Conversão de tipos e otimização de memória"
   ]
  },
  {
   "cell_type": "code",
   "execution_count": 26,
   "id": "9b194a76-53fb-4b9e-9dd3-994a07016736",
   "metadata": {},
   "outputs": [
    {
     "data": {
      "text/plain": [
       "ID_Pedido                   object\n",
       "Data_Venda          datetime64[ns]\n",
       "Nome_Produto                object\n",
       "Categoria                   object\n",
       "Quantidade                   int64\n",
       "Preco_Unitario             float64\n",
       "Valor_Total                float64\n",
       "Nome_Cliente                object\n",
       "Estado                      object\n",
       "Email                       object\n",
       "Metodo_Pagamento            object\n",
       "dtype: object"
      ]
     },
     "execution_count": 26,
     "metadata": {},
     "output_type": "execute_result"
    }
   ],
   "source": [
    "df.dtypes"
   ]
  },
  {
   "cell_type": "code",
   "execution_count": 27,
   "id": "eddbe05e-5cf5-4897-9257-6e8e054f2d34",
   "metadata": {
    "editable": true,
    "slideshow": {
     "slide_type": ""
    },
    "tags": []
   },
   "outputs": [
    {
     "data": {
      "text/plain": [
       "Index                84000\n",
       "ID_Pedido           892500\n",
       "Data_Venda           84000\n",
       "Nome_Produto        740594\n",
       "Categoria           658837\n",
       "Quantidade           84000\n",
       "Preco_Unitario       84000\n",
       "Valor_Total          84000\n",
       "Nome_Cliente        688407\n",
       "Estado              538650\n",
       "Email               781936\n",
       "Metodo_Pagamento    747467\n",
       "dtype: int64"
      ]
     },
     "execution_count": 27,
     "metadata": {},
     "output_type": "execute_result"
    }
   ],
   "source": [
    "mem_antiga = df.memory_usage(deep=True)\n",
    "mem_antiga"
   ]
  },
  {
   "cell_type": "code",
   "execution_count": 28,
   "id": "5e079f8d-1e25-4616-bcb2-7285e9fd7a02",
   "metadata": {},
   "outputs": [
    {
     "data": {
      "text/html": [
       "<div>\n",
       "<style scoped>\n",
       "    .dataframe tbody tr th:only-of-type {\n",
       "        vertical-align: middle;\n",
       "    }\n",
       "\n",
       "    .dataframe tbody tr th {\n",
       "        vertical-align: top;\n",
       "    }\n",
       "\n",
       "    .dataframe thead th {\n",
       "        text-align: right;\n",
       "    }\n",
       "</style>\n",
       "<table border=\"1\" class=\"dataframe\">\n",
       "  <thead>\n",
       "    <tr style=\"text-align: right;\">\n",
       "      <th></th>\n",
       "      <th>nunique</th>\n",
       "      <th>min</th>\n",
       "      <th>max</th>\n",
       "    </tr>\n",
       "  </thead>\n",
       "  <tbody>\n",
       "    <tr>\n",
       "      <th>ID_Pedido</th>\n",
       "      <td>10500</td>\n",
       "      <td>000301a7-2563-4de8-ad0f-185137a84075</td>\n",
       "      <td>fffebd39-9258-47c4-95d5-5b1978981327</td>\n",
       "    </tr>\n",
       "    <tr>\n",
       "      <th>Data_Venda</th>\n",
       "      <td>1096</td>\n",
       "      <td>2022-01-01 00:00:00</td>\n",
       "      <td>2024-12-31 00:00:00</td>\n",
       "    </tr>\n",
       "    <tr>\n",
       "      <th>Nome_Produto</th>\n",
       "      <td>25</td>\n",
       "      <td>Aventuras em Marte</td>\n",
       "      <td>Vestido Floral</td>\n",
       "    </tr>\n",
       "    <tr>\n",
       "      <th>Categoria</th>\n",
       "      <td>5</td>\n",
       "      <td>Casa e cozinha</td>\n",
       "      <td>Roupas</td>\n",
       "    </tr>\n",
       "    <tr>\n",
       "      <th>Quantidade</th>\n",
       "      <td>5</td>\n",
       "      <td>1</td>\n",
       "      <td>5</td>\n",
       "    </tr>\n",
       "    <tr>\n",
       "      <th>Preco_Unitario</th>\n",
       "      <td>10411.0</td>\n",
       "      <td>10.61</td>\n",
       "      <td>5000.22</td>\n",
       "    </tr>\n",
       "    <tr>\n",
       "      <th>Valor_Total</th>\n",
       "      <td>10455.0</td>\n",
       "      <td>11.03</td>\n",
       "      <td>24961.6</td>\n",
       "    </tr>\n",
       "    <tr>\n",
       "      <th>Nome_Cliente</th>\n",
       "      <td>400</td>\n",
       "      <td>Ana Almeida</td>\n",
       "      <td>Valentina Souza</td>\n",
       "    </tr>\n",
       "    <tr>\n",
       "      <th>Estado</th>\n",
       "      <td>28</td>\n",
       "      <td>AC</td>\n",
       "      <td>TO</td>\n",
       "    </tr>\n",
       "    <tr>\n",
       "      <th>Email</th>\n",
       "      <td>1990</td>\n",
       "      <td>Desconhecido</td>\n",
       "      <td>valentina.souza@web.org</td>\n",
       "    </tr>\n",
       "    <tr>\n",
       "      <th>Metodo_Pagamento</th>\n",
       "      <td>6</td>\n",
       "      <td>Boleto Bancário</td>\n",
       "      <td>Transferência Bancária</td>\n",
       "    </tr>\n",
       "  </tbody>\n",
       "</table>\n",
       "</div>"
      ],
      "text/plain": [
       "                  nunique                                   min  \\\n",
       "ID_Pedido           10500  000301a7-2563-4de8-ad0f-185137a84075   \n",
       "Data_Venda           1096                   2022-01-01 00:00:00   \n",
       "Nome_Produto           25                    Aventuras em Marte   \n",
       "Categoria               5                        Casa e cozinha   \n",
       "Quantidade              5                                     1   \n",
       "Preco_Unitario    10411.0                                 10.61   \n",
       "Valor_Total       10455.0                                 11.03   \n",
       "Nome_Cliente          400                           Ana Almeida   \n",
       "Estado                 28                                    AC   \n",
       "Email                1990                          Desconhecido   \n",
       "Metodo_Pagamento        6                       Boleto Bancário   \n",
       "\n",
       "                                                   max  \n",
       "ID_Pedido         fffebd39-9258-47c4-95d5-5b1978981327  \n",
       "Data_Venda                         2024-12-31 00:00:00  \n",
       "Nome_Produto                            Vestido Floral  \n",
       "Categoria                                       Roupas  \n",
       "Quantidade                                           5  \n",
       "Preco_Unitario                                 5000.22  \n",
       "Valor_Total                                    24961.6  \n",
       "Nome_Cliente                           Valentina Souza  \n",
       "Estado                                              TO  \n",
       "Email                          valentina.souza@web.org  \n",
       "Metodo_Pagamento                Transferência Bancária  "
      ]
     },
     "execution_count": 28,
     "metadata": {},
     "output_type": "execute_result"
    }
   ],
   "source": [
    "df.agg([\"nunique\",\"min\",\"max\"]).T"
   ]
  },
  {
   "cell_type": "markdown",
   "id": "ef44f53f-784c-408c-9ea7-c15497ed5d24",
   "metadata": {},
   "source": [
    "Então podemos realizar as seguintes conversões seguindo a tabela acima:\n",
    "- ID_Pedido -> Será dropado, já que cada pedido é único\n",
    "- Data_Venda -> Já está como datetime\n",
    "- Nome_Produto -> Vira category\n",
    "- Categoria -> Vira category\n",
    "- Quantidade -> Vira uint8\n",
    "- Preco_Unitario -> Vira uint16\n",
    "- Valor_Total -> Vira uint16\n",
    "- Nome_Clinte -> Vira str\n",
    "- Estado -> Vira category\n",
    "- Email -> Vira str\n",
    "- Método_Pagamento -> Vira category"
   ]
  },
  {
   "cell_type": "code",
   "execution_count": 29,
   "id": "dc9b4a3a-e0ab-4b3b-96f6-08abbab806c7",
   "metadata": {},
   "outputs": [],
   "source": [
    "df = df.astype({\n",
    "    \"ID_Pedido\": \"string\",\n",
    "    \"Nome_Produto\": \"category\",\n",
    "    \"Categoria\": \"category\",\n",
    "    \"Quantidade\": \"uint8\",\n",
    "    \"Preco_Unitario\": \"float32\",\n",
    "    \"Valor_Total\": \"float32\",\n",
    "    \"Nome_Cliente\": \"string\",\n",
    "    \"Estado\": \"category\",\n",
    "    \"Email\": \"string\",\n",
    "    \"Metodo_Pagamento\": \"category\"\n",
    "})"
   ]
  },
  {
   "cell_type": "markdown",
   "id": "efc02f66-b31a-4acd-9875-bbbab7f3f234",
   "metadata": {},
   "source": [
    "### Tabela de comparação consumo de memória Antigo x Pós-Conversão"
   ]
  },
  {
   "cell_type": "code",
   "execution_count": 30,
   "id": "8bc76902-a394-44f7-87c2-3f2263f12701",
   "metadata": {},
   "outputs": [
    {
     "data": {
      "text/html": [
       "<div>\n",
       "<style scoped>\n",
       "    .dataframe tbody tr th:only-of-type {\n",
       "        vertical-align: middle;\n",
       "    }\n",
       "\n",
       "    .dataframe tbody tr th {\n",
       "        vertical-align: top;\n",
       "    }\n",
       "\n",
       "    .dataframe thead th {\n",
       "        text-align: right;\n",
       "    }\n",
       "</style>\n",
       "<table border=\"1\" class=\"dataframe\">\n",
       "  <thead>\n",
       "    <tr style=\"text-align: right;\">\n",
       "      <th></th>\n",
       "      <th>antiga</th>\n",
       "      <th>nova</th>\n",
       "      <th>otimização (%)</th>\n",
       "    </tr>\n",
       "  </thead>\n",
       "  <tbody>\n",
       "    <tr>\n",
       "      <th>Index</th>\n",
       "      <td>84000.0</td>\n",
       "      <td>84000.0</td>\n",
       "      <td>0.00</td>\n",
       "    </tr>\n",
       "    <tr>\n",
       "      <th>ID_Pedido</th>\n",
       "      <td>892500.0</td>\n",
       "      <td>892500.0</td>\n",
       "      <td>0.00</td>\n",
       "    </tr>\n",
       "    <tr>\n",
       "      <th>Data_Venda</th>\n",
       "      <td>84000.0</td>\n",
       "      <td>84000.0</td>\n",
       "      <td>0.00</td>\n",
       "    </tr>\n",
       "    <tr>\n",
       "      <th>Nome_Produto</th>\n",
       "      <td>740594.0</td>\n",
       "      <td>12917.0</td>\n",
       "      <td>98.26</td>\n",
       "    </tr>\n",
       "    <tr>\n",
       "      <th>Categoria</th>\n",
       "      <td>658837.0</td>\n",
       "      <td>10999.0</td>\n",
       "      <td>98.33</td>\n",
       "    </tr>\n",
       "    <tr>\n",
       "      <th>Quantidade</th>\n",
       "      <td>84000.0</td>\n",
       "      <td>10500.0</td>\n",
       "      <td>87.50</td>\n",
       "    </tr>\n",
       "    <tr>\n",
       "      <th>Preco_Unitario</th>\n",
       "      <td>84000.0</td>\n",
       "      <td>42000.0</td>\n",
       "      <td>50.00</td>\n",
       "    </tr>\n",
       "    <tr>\n",
       "      <th>Valor_Total</th>\n",
       "      <td>84000.0</td>\n",
       "      <td>42000.0</td>\n",
       "      <td>50.00</td>\n",
       "    </tr>\n",
       "    <tr>\n",
       "      <th>Nome_Cliente</th>\n",
       "      <td>688407.0</td>\n",
       "      <td>721162.0</td>\n",
       "      <td>-4.76</td>\n",
       "    </tr>\n",
       "    <tr>\n",
       "      <th>Estado</th>\n",
       "      <td>538650.0</td>\n",
       "      <td>13010.0</td>\n",
       "      <td>97.58</td>\n",
       "    </tr>\n",
       "    <tr>\n",
       "      <th>Email</th>\n",
       "      <td>781936.0</td>\n",
       "      <td>831052.0</td>\n",
       "      <td>-6.28</td>\n",
       "    </tr>\n",
       "    <tr>\n",
       "      <th>Metodo_Pagamento</th>\n",
       "      <td>747467.0</td>\n",
       "      <td>11151.0</td>\n",
       "      <td>98.51</td>\n",
       "    </tr>\n",
       "    <tr>\n",
       "      <th>TOTAL</th>\n",
       "      <td>5468391.0</td>\n",
       "      <td>2755291.0</td>\n",
       "      <td>49.61</td>\n",
       "    </tr>\n",
       "  </tbody>\n",
       "</table>\n",
       "</div>"
      ],
      "text/plain": [
       "                     antiga       nova  otimização (%)\n",
       "Index               84000.0    84000.0            0.00\n",
       "ID_Pedido          892500.0   892500.0            0.00\n",
       "Data_Venda          84000.0    84000.0            0.00\n",
       "Nome_Produto       740594.0    12917.0           98.26\n",
       "Categoria          658837.0    10999.0           98.33\n",
       "Quantidade          84000.0    10500.0           87.50\n",
       "Preco_Unitario      84000.0    42000.0           50.00\n",
       "Valor_Total         84000.0    42000.0           50.00\n",
       "Nome_Cliente       688407.0   721162.0           -4.76\n",
       "Estado             538650.0    13010.0           97.58\n",
       "Email              781936.0   831052.0           -6.28\n",
       "Metodo_Pagamento   747467.0    11151.0           98.51\n",
       "TOTAL             5468391.0  2755291.0           49.61"
      ]
     },
     "execution_count": 30,
     "metadata": {},
     "output_type": "execute_result"
    }
   ],
   "source": [
    "mem_nova = df.memory_usage(deep=True)\n",
    "mem_usage = pd.concat([mem_antiga, mem_nova], axis=1)\n",
    "mem_usage.columns = ['antiga', 'nova']\n",
    "mem_usage[\"otimização (%)\"] = (100 * (mem_usage[\"antiga\"] - mem_usage[\"nova\"]) / mem_usage[\"antiga\"])\n",
    "total_antiga = mem_usage['antiga'].sum()\n",
    "total_nova = mem_usage['nova'].sum()\n",
    "mem_usage.loc['TOTAL'] = [total_antiga, total_nova, 100 * (total_antiga - total_nova) / total_antiga]\n",
    "mem_usage.round(2)"
   ]
  },
  {
   "cell_type": "markdown",
   "id": "1855c991-2d8e-44c9-9977-f36318906873",
   "metadata": {},
   "source": [
    "# Carregando os dados"
   ]
  },
  {
   "cell_type": "code",
   "execution_count": 31,
   "id": "450256ac-2b49-404a-b972-a6c7080eaac1",
   "metadata": {},
   "outputs": [],
   "source": [
    "df[\"Ano_Venda\"] = df[\"Data_Venda\"].dt.year\n",
    "df[\"Mes_Venda\"] = df[\"Data_Venda\"].dt.month\n",
    "\n",
    "# Reorganizando colunas\n",
    "df = df[[\"ID_Pedido\",\n",
    "         \"Nome_Produto\", \n",
    "         \"Categoria\", \n",
    "         \"Nome_Cliente\",\n",
    "         \"Email\",\n",
    "         \"Estado\",\n",
    "         \"Data_Venda\",\n",
    "         \"Mes_Venda\",\n",
    "         \"Ano_Venda\", \n",
    "         \"Quantidade\", \n",
    "         \"Preco_Unitario\", \n",
    "         \"Metodo_Pagamento\",\n",
    "         \"Valor_Total\"]]"
   ]
  },
  {
   "cell_type": "code",
   "execution_count": 32,
   "id": "26c6c1a7-9f68-42df-a692-0832f0612d51",
   "metadata": {
    "editable": true,
    "slideshow": {
     "slide_type": ""
    },
    "tags": []
   },
   "outputs": [],
   "source": [
    "df.to_parquet(\"dataset_tratado.parquet\", index=False, engine=\"pyarrow\")"
   ]
  }
 ],
 "metadata": {
  "kernelspec": {
   "display_name": "Python 3 (ipykernel)",
   "language": "python",
   "name": "python3"
  },
  "language_info": {
   "codemirror_mode": {
    "name": "ipython",
    "version": 3
   },
   "file_extension": ".py",
   "mimetype": "text/x-python",
   "name": "python",
   "nbconvert_exporter": "python",
   "pygments_lexer": "ipython3",
   "version": "3.12.7"
  }
 },
 "nbformat": 4,
 "nbformat_minor": 5
}
